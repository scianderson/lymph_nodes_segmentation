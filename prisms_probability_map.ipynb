{
 "cells": [
  {
   "cell_type": "code",
   "execution_count": 2,
   "metadata": {},
   "outputs": [],
   "source": [
    "import json\n",
    "import os\n",
    "import csv\n",
    "from time import sleep\n",
    "\n",
    "import nibabel as nib\n",
    "import numpy as np\n",
    "import pydicom as dcm\n",
    "from itkwidgets import view"
   ]
  },
  {
   "cell_type": "code",
   "execution_count": 2,
   "metadata": {},
   "outputs": [],
   "source": [
    "def get_metadata(filename):\n",
    "    cases = {}\n",
    "    with open(filename, 'r') as csvf:\n",
    "        csv_reader = csv.reader(csvf)\n",
    "        header = next(csv_reader)\n",
    "        for row in csv_reader:\n",
    "            if not row[4].startswith(\"MED\"):\n",
    "                continue\n",
    "            cases[row[4]] = {header[i]:row[i] for i in range(len(row))}\n",
    "    return cases\n",
    "\n",
    "def read_dicom(case: dict):\n",
    "    filename = \"Dataset\" + case['File Location'][1:].replace('\\\\', '/')\n",
    "    dcms = os.listdir(filename)\n",
    "    dcms.sort()\n",
    "    first_image = dcm.read_file(f\"{filename}/{dcms[0]}\")\n",
    "    first_pixs = first_image.pixel_array\n",
    "    volume = np.empty((first_pixs.shape[0], first_pixs.shape[1], len(dcms)))\n",
    "    for idx, im in enumerate(dcms):\n",
    "        pixels = dcm.read_file(f\"{filename}/{im}\").pixel_array\n",
    "        volume[:,:,idx] = pixels.transpose()\n",
    "    return volume\n",
    "\n",
    "def read_mask(case: dict):\n",
    "    case_name = case['File Location'][1:].split('\\\\')[2]\n",
    "    filename = \"Dataset/MED_ABD_LYMPH_MASKS/\" + case_name + \"/\" + case_name + \"_mask.nii.gz\"\n",
    "    mask = nib.load(filename).get_fdata()\n",
    "    return mask"
   ]
  },
  {
   "cell_type": "code",
   "execution_count": 3,
   "metadata": {},
   "outputs": [],
   "source": [
    "cases = get_metadata(\"Dataset/metadata.csv\")"
   ]
  },
  {
   "cell_type": "code",
   "execution_count": 4,
   "metadata": {},
   "outputs": [],
   "source": [
    "with open(\"bp_and_cubes_data_64.json\", \"r\") as f:\n",
    "    prism_data = json.loads(f.read())"
   ]
  },
  {
   "cell_type": "markdown",
   "metadata": {},
   "source": [
    "### Find the min bounding prism shape for all axes across all data."
   ]
  },
  {
   "cell_type": "code",
   "execution_count": 5,
   "metadata": {},
   "outputs": [
    {
     "name": "stdout",
     "output_type": "stream",
     "text": [
      "min_shape = [300, 192, 175]\n"
     ]
    }
   ],
   "source": [
    "min_shape = [1e9, 1e9, 1e9]\n",
    "\n",
    "for case in prism_data.values():\n",
    "    bp_shape = case[\"bp_shape\"]\n",
    "\n",
    "    for axis in range(3):\n",
    "        axis_shape = bp_shape[axis]\n",
    "        min_shape[axis] = axis_shape if axis_shape < min_shape[axis] else min_shape[axis]\n",
    "    \n",
    "print(f\"{min_shape = }\")"
   ]
  },
  {
   "cell_type": "code",
   "execution_count": 6,
   "metadata": {},
   "outputs": [
    {
     "name": "stdout",
     "output_type": "stream",
     "text": [
      "Progress: 100.00%.\r"
     ]
    }
   ],
   "source": [
    "prob_map = np.zeros(min_shape)\n",
    "\n",
    "for case_num, case in enumerate(cases.keys()):\n",
    "    bp_shape = prism_data[case][\"bp_shape\"]\n",
    "    bp_coords = prism_data[case][\"bp_extents\"]\n",
    "\n",
    "    mask = read_mask(cases[case])\n",
    "\n",
    "    index_okay = True\n",
    "    for coords, voxel in np.ndenumerate(mask[bp_coords[0][0]:bp_coords[0][1],\n",
    "                                             bp_coords[1][0]:bp_coords[1][1],\n",
    "                                             bp_coords[2][0]:bp_coords[2][1]]):\n",
    "        coords = list(coords)\n",
    "        for axis in range(3):\n",
    "            coords[axis] += bp_coords[axis][0]\n",
    "        if not voxel:\n",
    "            continue\n",
    "        try:\n",
    "            prob_map[int((coords[0]-bp_coords[0][0])*(min_shape[0]-1) / (bp_shape[0]-1)),\n",
    "                    int((coords[1]-bp_coords[1][0])*(min_shape[1]-1) / (bp_shape[1]-1)),\n",
    "                    int((coords[2]-bp_coords[2][0])*(min_shape[2]-1) / (bp_shape[2]-1))] += 1\n",
    "        except IndexError:\n",
    "            if index_okay:\n",
    "                print((f\"{case = }\"\n",
    "                       f\"{bp_shape = }\"\n",
    "                       f\"{bp_coords = }\"))\n",
    "                index_okay = False\n",
    "            continue\n",
    "    print(f\"Progress: {(case_num+1)/len(cases.keys())*100:2.2f}%.\", end='\\r')\n",
    "    sleep(0)\n",
    "\n",
    "    with open(\"prob_map.npy\", \"wb\") as f:\n",
    "        np.save(f, prob_map)\n",
    "\n",
    "    with open(\"prob_map_progress.txt\", \"w+\") as f:\n",
    "        f.write(f\"Done with {case_num+1} of {len(cases.keys())}.\")"
   ]
  },
  {
   "cell_type": "code",
   "execution_count": 3,
   "metadata": {},
   "outputs": [],
   "source": [
    "with open(\"prob_map.npy\", \"rb\") as f:\n",
    "    read_prob_map = np.load(f)"
   ]
  },
  {
   "cell_type": "code",
   "execution_count": 4,
   "metadata": {},
   "outputs": [
    {
     "data": {
      "application/vnd.jupyter.widget-view+json": {
       "model_id": "1ee2cceceba947309c4a7ee4b8994b6b",
       "version_major": 2,
       "version_minor": 0
      },
      "text/plain": [
       "Viewer(geometries=[], gradient_opacity=0.22, point_sets=[], rendered_image=<itk.itkImagePython.itkImageD3; pro…"
      ]
     },
     "metadata": {},
     "output_type": "display_data"
    }
   ],
   "source": [
    "view(read_prob_map)"
   ]
  }
 ],
 "metadata": {
  "interpreter": {
   "hash": "f5622a9b61beae361d727e135e4c1a7005c5ad92f50511f0e3ca5f04d346cde9"
  },
  "kernelspec": {
   "display_name": "Python 3 (ipykernel)",
   "language": "python",
   "name": "python3"
  },
  "language_info": {
   "codemirror_mode": {
    "name": "ipython",
    "version": 3
   },
   "file_extension": ".py",
   "mimetype": "text/x-python",
   "name": "python",
   "nbconvert_exporter": "python",
   "pygments_lexer": "ipython3",
   "version": "3.9.7"
  }
 },
 "nbformat": 4,
 "nbformat_minor": 2
}
