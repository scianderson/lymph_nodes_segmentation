{
 "cells": [
  {
   "cell_type": "code",
   "execution_count": 1,
   "id": "80e48466",
   "metadata": {},
   "outputs": [],
   "source": [
    "from itkwidgets import view\n",
    "\n",
    "from dataset import UnetDataset"
   ]
  },
  {
   "cell_type": "code",
   "execution_count": 2,
   "id": "6e6a36b4",
   "metadata": {},
   "outputs": [],
   "source": [
    "data = UnetDataset(\"/home/sci/kyle.anderson/lymph_nodes/Dataset\", patch_size=64, min_probability=0.5)"
   ]
  },
  {
   "cell_type": "code",
   "execution_count": 3,
   "id": "cd6bec2e",
   "metadata": {},
   "outputs": [
    {
     "name": "stdout",
     "output_type": "stream",
     "text": [
      "416\n"
     ]
    }
   ],
   "source": [
    "print(len(data))"
   ]
  },
  {
   "cell_type": "code",
   "execution_count": 4,
   "id": "28ea9239",
   "metadata": {},
   "outputs": [
    {
     "data": {
      "application/vnd.jupyter.widget-view+json": {
       "model_id": "8ab4ff7d0ba947bda6f6236ba6f47e49",
       "version_major": 2,
       "version_minor": 0
      },
      "text/plain": [
       "Viewer(geometries=[], gradient_opacity=0.22, interpolation=False, point_sets=[], rendered_image=<itk.itkImageP…"
      ]
     },
     "metadata": {},
     "output_type": "display_data"
    }
   ],
   "source": [
    "view(data[415][\"img\"].squeeze(), data[415][\"mask\"].squeeze())"
   ]
  }
 ],
 "metadata": {
  "kernelspec": {
   "display_name": "Python 3 (ipykernel)",
   "language": "python",
   "name": "python3"
  },
  "language_info": {
   "codemirror_mode": {
    "name": "ipython",
    "version": 3
   },
   "file_extension": ".py",
   "mimetype": "text/x-python",
   "name": "python",
   "nbconvert_exporter": "python",
   "pygments_lexer": "ipython3",
   "version": "3.9.7"
  }
 },
 "nbformat": 4,
 "nbformat_minor": 5
}
