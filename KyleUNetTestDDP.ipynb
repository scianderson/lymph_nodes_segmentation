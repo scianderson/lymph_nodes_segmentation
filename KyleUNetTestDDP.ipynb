{
 "cells": [
  {
   "cell_type": "code",
   "execution_count": null,
   "metadata": {},
   "outputs": [],
   "source": [
    "import torch\n",
    "from torch.utils.data import Subset\n",
    "from torch.nn.modules.utils import consume_prefix_in_state_dict_if_present as consume_prefix\n",
    "from itkwidgets import view\n",
    "\n",
    "import scipy\n",
    "import numpy as np\n",
    "import random\n",
    "\n",
    "import model as mdl\n",
    "import Kyle_model as kmdl\n",
    "import dataset as dtst"
   ]
  },
  {
   "cell_type": "code",
   "execution_count": null,
   "metadata": {},
   "outputs": [],
   "source": [
    "dataset_directory = \"/home/sci/kyle.anderson/lymph_nodes/Dataset\"\n",
    "checkpoint_directory = \"/home/sci/kyle.anderson/lymph_nodes/Lymph-Node-Segmentation\""
   ]
  },
  {
   "cell_type": "code",
   "execution_count": null,
   "metadata": {},
   "outputs": [],
   "source": [
    "# model = mdl.UNet64()\n",
    "model = kmdl.UNet()\n",
    "model.cuda()"
   ]
  },
  {
   "cell_type": "code",
   "execution_count": null,
   "metadata": {},
   "outputs": [],
   "source": [
    "num_train_params = sum(p.numel() for p in model.parameters() if p.requires_grad)\n",
    "print(f\"Trainable parameters: {num_train_params}.\")"
   ]
  },
  {
   "cell_type": "code",
   "execution_count": null,
   "metadata": {},
   "outputs": [],
   "source": [
    "ddp_state_dict = torch.load(f\"{checkpoint_directory}/KyleUNetWeightedBCE.tar\")[\"model_state_dict\"]\n",
    "consume_prefix(ddp_state_dict, \"module.\")\n",
    "model.load_state_dict(ddp_state_dict)"
   ]
  },
  {
   "cell_type": "code",
   "execution_count": null,
   "metadata": {},
   "outputs": [],
   "source": [
    "dataset = dtst.UnetDataset(dataset_directory, patch_size=64, min_probability=0.05)\n",
    "print(f\"Number of samples in dataset: {len(dataset)}.\")\n",
    "\n",
    "all_indices = list(range(len(dataset)))\n",
    "random.Random(13).shuffle(all_indices)\n",
    "train_set = Subset(dataset, all_indices[len(all_indices)-int(0.8*len(all_indices)):])\n",
    "test_set = Subset(dataset, all_indices[:len(all_indices)-int(0.8*len(all_indices))])"
   ]
  },
  {
   "cell_type": "code",
   "execution_count": null,
   "metadata": {},
   "outputs": [],
   "source": [
    "whole_sample = data.get_whole_volume_and_mask(2)\n",
    "view(whole_sample['img'], whole_sample['mask'])"
   ]
  },
  {
   "cell_type": "code",
   "execution_count": null,
   "metadata": {},
   "outputs": [],
   "source": [
    "with open(f\"{dataset_directory}/prob_map.npy\", \"rb\") as f:\n",
    "    p_map = np.load(f)"
   ]
  },
  {
   "cell_type": "code",
   "execution_count": null,
   "metadata": {},
   "outputs": [],
   "source": [
    "p_map = p_map / np.max(p_map)"
   ]
  },
  {
   "cell_type": "code",
   "execution_count": null,
   "metadata": {},
   "outputs": [],
   "source": [
    "view(np.asarray(p_map))"
   ]
  },
  {
   "cell_type": "markdown",
   "metadata": {},
   "source": [
    "# Test the model on a few images"
   ]
  },
  {
   "cell_type": "code",
   "execution_count": null,
   "metadata": {},
   "outputs": [],
   "source": [
    "def test(model, sample):\n",
    "    model.eval()\n",
    "    with torch.no_grad():\n",
    "        pred = model(sample[\"img\"].unsqueeze(0).cuda(non_blocking=True).type(torch.cuda.FloatTensor))\n",
    "        # img = torch.from_numpy(scipy.ndimage.zoom(sample[\"img\"], [1.0, 0.5, 0.5, 0.5])).unsqueeze(0)\n",
    "        # pred = model(img.cuda(non_blocking=True).type(torch.cuda.FloatTensor))\n",
    "\n",
    "    return pred.detach().cpu().numpy()"
   ]
  },
  {
   "cell_type": "code",
   "execution_count": null,
   "metadata": {},
   "outputs": [],
   "source": [
    "def dice_coeff(prediction, truth):\n",
    "\n",
    "    if prediction.shape != truth.shape:\n",
    "        print(\"Incompatible shapes.\")\n",
    "        print(f\"{prediction.shape = }, {truth.shape = }\")\n",
    "        return\n",
    "    \n",
    "    intersection = torch.count_nonzero(prediction[prediction * truth >= 0.5])\n",
    "    tot_voxels = (torch.count_nonzero(prediction[prediction >= 0.5])\n",
    "                 + torch.count_nonzero(truth))\n",
    "    return 2*intersection / tot_voxels"
   ]
  },
  {
   "cell_type": "code",
   "execution_count": null,
   "metadata": {},
   "outputs": [],
   "source": [
    "def find_avg_dice(model, dataset):\n",
    "    model.eval()\n",
    "    running_avg = 0.0\n",
    "    with torch.no_grad():\n",
    "        for sample in dataset:\n",
    "            # img = torch.from_numpy(scipy.ndimage.zoom(sample[\"img\"], [1.0, 0.5, 0.5, 0.5])).unsqueeze(0)\n",
    "            # mask = torch.from_numpy(scipy.ndimage.zoom(sample[\"mask\"], [1.0, 0.5, 0.5, 0.5])).unsqueeze(0)\n",
    "            img = sample['img'].unsqueeze(0)\n",
    "            mask = sample['mask'].unsqueeze(0)\n",
    "            preds = model(img.cuda(non_blocking=True).type(torch.cuda.FloatTensor))\n",
    "            loss = dice_coeff(preds.squeeze(), mask.cuda(non_blocking=True).type(torch.cuda.FloatTensor).squeeze())\n",
    "            running_avg += loss\n",
    "\n",
    "    running_avg /= len(dataset)\n",
    "    return running_avg"
   ]
  },
  {
   "cell_type": "code",
   "execution_count": null,
   "metadata": {},
   "outputs": [],
   "source": [
    "avg_dice = find_avg_dice(model, dataset)"
   ]
  },
  {
   "cell_type": "code",
   "execution_count": null,
   "metadata": {},
   "outputs": [],
   "source": [
    "# average dice score with cube size 64 and with min probability 0.05 is 0.12046\n",
    "print(f\"Average dice score: {avg_dice:.5f}\")"
   ]
  },
  {
   "cell_type": "code",
   "execution_count": 17,
   "metadata": {},
   "outputs": [
    {
     "data": {
      "application/vnd.jupyter.widget-view+json": {
       "model_id": "9e629af57bfd482bbb4d7d025e49bd93",
       "version_major": 2,
       "version_minor": 0
      },
      "text/plain": [
       "Viewer(geometries=[], gradient_opacity=0.22, interpolation=False, point_sets=[], rendered_image=<itk.itkImageP…"
      ]
     },
     "metadata": {},
     "output_type": "display_data"
    }
   ],
   "source": [
    "idx = 10\n",
    "pred = test(model, dataset[idx])\n",
    "binary_pred = np.zeros_like(pred)\n",
    "binary_pred[pred >= 0.5] = 1\n",
    "view(binary_pred.squeeze(), dataset[idx][\"mask\"].cpu().numpy().squeeze())"
   ]
  },
  {
   "cell_type": "code",
   "execution_count": null,
   "metadata": {},
   "outputs": [],
   "source": [
    "idx = 100\n",
    "pred = test(model, test_set[idx])\n",
    "view(pred.squeeze(), test_set[idx][\"mask\"].cpu().numpy().squeeze())"
   ]
  },
  {
   "cell_type": "code",
   "execution_count": null,
   "metadata": {},
   "outputs": [],
   "source": [
    "pred = test(model, data[200])\n",
    "view(pred.squeeze(), data[200][\"mask\"].cpu().numpy().squeeze())"
   ]
  },
  {
   "cell_type": "code",
   "execution_count": null,
   "metadata": {},
   "outputs": [],
   "source": [
    "pred = test(model, data[100])\n",
    "view(pred.squeeze(), data[100][\"mask\"].cpu().numpy().squeeze())"
   ]
  }
 ],
 "metadata": {
  "interpreter": {
   "hash": "f5622a9b61beae361d727e135e4c1a7005c5ad92f50511f0e3ca5f04d346cde9"
  },
  "kernelspec": {
   "display_name": "Python 3.9.7 64-bit ('base': conda)",
   "language": "python",
   "name": "python3"
  },
  "language_info": {
   "codemirror_mode": {
    "name": "ipython",
    "version": 3
   },
   "file_extension": ".py",
   "mimetype": "text/x-python",
   "name": "python",
   "nbconvert_exporter": "python",
   "pygments_lexer": "ipython3",
   "version": "3.9.7"
  },
  "orig_nbformat": 4
 },
 "nbformat": 4,
 "nbformat_minor": 2
}
